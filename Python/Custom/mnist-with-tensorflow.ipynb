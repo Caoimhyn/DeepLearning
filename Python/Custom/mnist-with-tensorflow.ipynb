{
 "cells": [
  {
   "cell_type": "code",
   "execution_count": 1,
   "metadata": {
    "_cell_guid": "b1076dfc-b9ad-4769-8c92-a6c4dae69d19",
    "_uuid": "8f2839f25d086af736a60e9eeb907d3b93b6e0e5"
   },
   "outputs": [],
   "source": [
    "import tensorflow as tf\n",
    "import pandas as pd\n",
    "\n",
    "\n",
    "train = pd.read_csv('/kaggle/input/digit-recognizer/train.csv')\n",
    "test = pd.read_csv('/kaggle/input/digit-recognizer/test.csv')\n",
    "\n",
    "y_train = train['label']\n",
    "x_train = train.drop(['label'], axis=1)\n",
    "\n",
    "# y_test = test['label']\n",
    "x_test = test"
   ]
  },
  {
   "cell_type": "code",
   "execution_count": 2,
   "metadata": {
    "_cell_guid": "79c7e3d0-c299-4dcb-8224-4455121ee9b0",
    "_uuid": "d629ff2d2480ee46fbb7e2d37f6b5fab8052498a"
   },
   "outputs": [
    {
     "name": "stdout",
     "output_type": "stream",
     "text": [
      "x_train shape: (42000, 28, 28, 1)\n",
      "Number of images in x_train 42000\n",
      "Number of images in x_test 28000\n"
     ]
    }
   ],
   "source": [
    "import numpy as np\n",
    "\n",
    "# Reshaping the array to 4-dims so that it can work with the Keras API\n",
    "x_train = np.array(x_train).reshape(x_train.shape[0], 28, 28, 1)\n",
    "x_test = np.array(x_test).reshape(x_test.shape[0], 28, 28, 1)\n",
    "input_shape = (28, 28, 1)\n",
    "# Making sure that the values are float so that we can get decimal points after division\n",
    "x_train = x_train.astype('float32')\n",
    "x_test = x_test.astype('float32')\n",
    "# Normalizing the RGB codes by dividing it to the max RGB value.\n",
    "x_train /= 255\n",
    "x_test /= 255\n",
    "\n",
    "print('x_train shape:', x_train.shape)\n",
    "print('Number of images in x_train', x_train.shape[0])\n",
    "print('Number of images in x_test', x_test.shape[0])"
   ]
  },
  {
   "cell_type": "code",
   "execution_count": 3,
   "metadata": {},
   "outputs": [
    {
     "name": "stderr",
     "output_type": "stream",
     "text": [
      "Using TensorFlow backend.\n"
     ]
    }
   ],
   "source": [
    "# Importing the required Keras modules containing model and layers\n",
    "from keras.models import Sequential\n",
    "from keras.layers import Dense, Conv2D, Dropout, Flatten, MaxPooling2D\n",
    "from keras.layers.normalization import BatchNormalization\n",
    "from keras.layers.advanced_activations import LeakyReLU\n",
    "\n",
    "# Creating a Sequential Model and adding the layers\n",
    "# Creating a Sequential Model and adding the layers\n",
    "model = Sequential()\n",
    "model.add(Conv2D(28, kernel_size=(3,3), padding='same', activation='linear', input_shape=input_shape))\n",
    "model.add(BatchNormalization(axis=-1))\n",
    "model.add(LeakyReLU(alpha=0.1))\n",
    "model.add(Conv2D(56, kernel_size=(3,3), padding='same', activation='relu',))\n",
    "model.add(Conv2D(112, kernel_size=(3,3), padding='same', activation='relu',))\n",
    "model.add(MaxPooling2D(pool_size=(2,2)))\n",
    "model.add(Dropout(0.3))\n",
    "model.add(Conv2D(112, kernel_size=(3,3), padding='same', activation='relu',))\n",
    "model.add(Conv2D(112, kernel_size=(3,3), padding='same', activation='relu',))\n",
    "model.add(MaxPooling2D(pool_size=(2,2)))\n",
    "model.add(Flatten()) # Flattening the 2D arrays for fully connected layers\n",
    "model.add(Dense(128, activation=tf.nn.relu))\n",
    "model.add(Dropout(0.2))\n",
    "model.add(Dense(10,activation=tf.nn.softmax))"
   ]
  },
  {
   "cell_type": "code",
   "execution_count": 4,
   "metadata": {},
   "outputs": [
    {
     "name": "stdout",
     "output_type": "stream",
     "text": [
      "Epoch 1/30\n",
      "42000/42000 [==============================] - 372s 9ms/step - loss: 0.1740 - accuracy: 0.9460\n",
      "Epoch 2/30\n",
      "42000/42000 [==============================] - 372s 9ms/step - loss: 0.0587 - accuracy: 0.9833\n",
      "Epoch 3/30\n",
      "42000/42000 [==============================] - 370s 9ms/step - loss: 0.0443 - accuracy: 0.9869\n",
      "Epoch 4/30\n",
      "42000/42000 [==============================] - 370s 9ms/step - loss: 0.0363 - accuracy: 0.9897\n",
      "Epoch 5/30\n",
      "42000/42000 [==============================] - 373s 9ms/step - loss: 0.0296 - accuracy: 0.9917\n",
      "Epoch 6/30\n",
      "42000/42000 [==============================] - 370s 9ms/step - loss: 0.0271 - accuracy: 0.9919\n",
      "Epoch 7/30\n",
      "42000/42000 [==============================] - 369s 9ms/step - loss: 0.0233 - accuracy: 0.9925\n",
      "Epoch 8/30\n",
      "42000/42000 [==============================] - 371s 9ms/step - loss: 0.0205 - accuracy: 0.9937\n",
      "Epoch 9/30\n",
      "42000/42000 [==============================] - 370s 9ms/step - loss: 0.0188 - accuracy: 0.9943\n",
      "Epoch 10/30\n",
      "42000/42000 [==============================] - 372s 9ms/step - loss: 0.0165 - accuracy: 0.9952\n",
      "Epoch 11/30\n",
      "42000/42000 [==============================] - 375s 9ms/step - loss: 0.0176 - accuracy: 0.9948\n",
      "Epoch 12/30\n",
      "42000/42000 [==============================] - 377s 9ms/step - loss: 0.0131 - accuracy: 0.9959\n",
      "Epoch 16/30\n",
      "42000/42000 [==============================] - 372s 9ms/step - loss: 0.0118 - accuracy: 0.9966\n",
      "Epoch 20/30\n",
      "42000/42000 [==============================] - 371s 9ms/step - loss: 0.0107 - accuracy: 0.9966\n",
      "Epoch 21/30\n",
      "42000/42000 [==============================] - 381s 9ms/step - loss: 0.0096 - accuracy: 0.9971\n",
      "Epoch 24/30\n",
      "42000/42000 [==============================] - 374s 9ms/step - loss: 0.0084 - accuracy: 0.9979\n",
      "Epoch 28/30\n",
      "42000/42000 [==============================] - 382s 9ms/step - loss: 0.0067 - accuracy: 0.9980\n",
      "Epoch 30/30\n",
      "28736/42000 [===================>..........] - ETA: 2:01 - loss: 0.0117 - accuracy: 0.9969"
     ]
    }
   ],
   "source": [
    "model.compile(optimizer='adam', \n",
    "              loss='sparse_categorical_crossentropy', \n",
    "              metrics=['accuracy'])\n",
    "model.fit(x=x_train,y=y_train, epochs=30)\n"
   ]
  },
  {
   "cell_type": "code",
   "execution_count": 5,
   "metadata": {},
   "outputs": [],
   "source": [
    "# predict results\n",
    "results = model.predict(x_test)\n",
    "\n",
    "# select the indix with the maximum probability\n",
    "results = np.argmax(results,axis = 1)\n",
    "\n",
    "results = pd.Series(results,name=\"Label\")\n",
    "\n",
    "submission = pd.concat([pd.Series(range(1,28001),name = \"ImageId\"),results],axis = 1)\n",
    "\n",
    "submission.to_csv(\"cnn_mnist_V3.csv\",index=False)"
   ]
  }
 ],
 "metadata": {
  "kernelspec": {
   "display_name": "Python 3",
   "language": "python",
   "name": "python3"
  },
  "language_info": {
   "codemirror_mode": {
    "name": "ipython",
    "version": 3
   },
   "file_extension": ".py",
   "mimetype": "text/x-python",
   "name": "python",
   "nbconvert_exporter": "python",
   "pygments_lexer": "ipython3",
   "version": "3.6.6"
  }
 },
 "nbformat": 4,
 "nbformat_minor": 1
}
