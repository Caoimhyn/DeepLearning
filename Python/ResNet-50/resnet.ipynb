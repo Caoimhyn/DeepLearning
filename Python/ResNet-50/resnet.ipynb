{
 "cells": [
  {
   "cell_type": "code",
   "execution_count": 17,
   "metadata": {},
   "outputs": [],
   "source": [
    "import pandas as pd\n",
    "import numpy as np \n",
    "import matplotlib.pyplot as plt\n",
    "import os\n",
    "from urllib.request import urlopen,urlretrieve\n",
    "from PIL import Image\n",
    "from tqdm import tqdm_notebook\n",
    "%matplotlib inline\n",
    "from sklearn.utils import shuffle\n",
    "import cv2\n",
    "from resnets_utils import *\n",
    "\n",
    "from keras.models import load_model\n",
    "from sklearn.datasets import load_files   \n",
    "from keras.utils import np_utils\n",
    "from glob import glob\n",
    "from keras import applications\n",
    "from keras.preprocessing.image import ImageDataGenerator \n",
    "from keras import optimizers\n",
    "from keras.models import Sequential,Model,load_model\n",
    "from keras.layers import Dense, Dropout, Flatten, Conv2D, MaxPool2D,GlobalAveragePooling2D\n",
    "from keras.callbacks import TensorBoard,ReduceLROnPlateau,ModelCheckpoint"
   ]
  },
  {
   "cell_type": "code",
   "execution_count": 18,
   "metadata": {},
   "outputs": [
    {
     "name": "stdout",
     "output_type": "stream",
     "text": [
      "number of training examples = 1080\n",
      "number of test examples = 120\n",
      "X_train shape: (1080, 64, 64, 3)\n",
      "Y_train shape: (1080, 6)\n",
      "X_test shape: (120, 64, 64, 3)\n",
      "Y_test shape: (120, 6)\n"
     ]
    }
   ],
   "source": [
    "X_train_orig, Y_train_orig, X_test_orig, Y_test_orig, classes = load_dataset()\n",
    "\n",
    "# Normalize image vectors\n",
    "X_train = X_train_orig/255.\n",
    "X_test = X_test_orig/255.\n",
    "\n",
    "# Convert training and test labels to one hot matrices\n",
    "Y_train = convert_to_one_hot(Y_train_orig, 6).T\n",
    "Y_test = convert_to_one_hot(Y_test_orig, 6).T\n",
    "\n",
    "print (\"number of training examples = \" + str(X_train.shape[0]))\n",
    "print (\"number of test examples = \" + str(X_test.shape[0]))\n",
    "print (\"X_train shape: \" + str(X_train.shape))\n",
    "print (\"Y_train shape: \" + str(Y_train.shape))\n",
    "print (\"X_test shape: \" + str(X_test.shape))\n",
    "print (\"Y_test shape: \" + str(Y_test.shape))"
   ]
  },
  {
   "cell_type": "code",
   "execution_count": 20,
   "metadata": {},
   "outputs": [
    {
     "name": "stdout",
     "output_type": "stream",
     "text": [
      "WARNING:tensorflow:From C:\\ProgramData\\Anaconda3\\lib\\site-packages\\keras\\backend\\tensorflow_backend.py:66: The name tf.get_default_graph is deprecated. Please use tf.compat.v1.get_default_graph instead.\n",
      "\n",
      "WARNING:tensorflow:From C:\\ProgramData\\Anaconda3\\lib\\site-packages\\keras\\backend\\tensorflow_backend.py:541: The name tf.placeholder is deprecated. Please use tf.compat.v1.placeholder instead.\n",
      "\n",
      "WARNING:tensorflow:From C:\\ProgramData\\Anaconda3\\lib\\site-packages\\keras\\backend\\tensorflow_backend.py:4479: The name tf.truncated_normal is deprecated. Please use tf.random.truncated_normal instead.\n",
      "\n",
      "WARNING:tensorflow:From C:\\ProgramData\\Anaconda3\\lib\\site-packages\\keras\\backend\\tensorflow_backend.py:190: The name tf.get_default_session is deprecated. Please use tf.compat.v1.get_default_session instead.\n",
      "\n",
      "WARNING:tensorflow:From C:\\ProgramData\\Anaconda3\\lib\\site-packages\\keras\\backend\\tensorflow_backend.py:197: The name tf.ConfigProto is deprecated. Please use tf.compat.v1.ConfigProto instead.\n",
      "\n",
      "WARNING:tensorflow:From C:\\ProgramData\\Anaconda3\\lib\\site-packages\\keras\\backend\\tensorflow_backend.py:2041: The name tf.nn.fused_batch_norm is deprecated. Please use tf.compat.v1.nn.fused_batch_norm instead.\n",
      "\n",
      "WARNING:tensorflow:From C:\\ProgramData\\Anaconda3\\lib\\site-packages\\keras\\backend\\tensorflow_backend.py:4267: The name tf.nn.max_pool is deprecated. Please use tf.nn.max_pool2d instead.\n",
      "\n"
     ]
    },
    {
     "name": "stderr",
     "output_type": "stream",
     "text": [
      "C:\\ProgramData\\Anaconda3\\lib\\site-packages\\keras_applications\\resnet50.py:265: UserWarning: The output shape of `ResNet50(include_top=False)` has been changed since Keras 2.2.0.\n",
      "  warnings.warn('The output shape of `ResNet50(include_top=False)` '\n"
     ]
    }
   ],
   "source": [
    "img_height,img_width = 64,64 \n",
    "num_classes = 6\n",
    "#If imagenet weights are being loaded, \n",
    "#input must have a static square shape (one of (128, 128), (160, 160), (192, 192), or (224, 224))\n",
    "base_model = applications.resnet50.ResNet50(weights= None, include_top=False, input_shape= (img_height,img_width,3))"
   ]
  },
  {
   "cell_type": "code",
   "execution_count": 21,
   "metadata": {},
   "outputs": [
    {
     "name": "stdout",
     "output_type": "stream",
     "text": [
      "WARNING:tensorflow:From C:\\ProgramData\\Anaconda3\\lib\\site-packages\\keras\\backend\\tensorflow_backend.py:3733: calling dropout (from tensorflow.python.ops.nn_ops) with keep_prob is deprecated and will be removed in a future version.\n",
      "Instructions for updating:\n",
      "Please use `rate` instead of `keep_prob`. Rate should be set to `rate = 1 - keep_prob`.\n",
      "WARNING:tensorflow:Large dropout rate: 0.7 (>0.5). In TensorFlow 2.x, dropout() uses dropout rate instead of keep_prob. Please ensure that this is intended.\n"
     ]
    }
   ],
   "source": [
    "x = base_model.output\n",
    "x = GlobalAveragePooling2D()(x)\n",
    "x = Dropout(0.7)(x)\n",
    "predictions = Dense(num_classes, activation= 'softmax')(x)\n",
    "model = Model(inputs = base_model.input, outputs = predictions)"
   ]
  },
  {
   "cell_type": "code",
   "execution_count": 22,
   "metadata": {},
   "outputs": [
    {
     "name": "stdout",
     "output_type": "stream",
     "text": [
      "WARNING:tensorflow:From C:\\ProgramData\\Anaconda3\\lib\\site-packages\\keras\\optimizers.py:793: The name tf.train.Optimizer is deprecated. Please use tf.compat.v1.train.Optimizer instead.\n",
      "\n"
     ]
    }
   ],
   "source": [
    "from keras.optimizers import SGD, Adam\n",
    "# sgd = SGD(lr=lrate, momentum=0.9, decay=decay, nesterov=False)\n",
    "adam = Adam(lr=0.0001)\n",
    "model.compile(optimizer= adam, loss='categorical_crossentropy', metrics=['accuracy'])"
   ]
  },
  {
   "cell_type": "code",
   "execution_count": null,
   "metadata": {},
   "outputs": [
    {
     "name": "stdout",
     "output_type": "stream",
     "text": [
      "WARNING:tensorflow:From C:\\ProgramData\\Anaconda3\\lib\\site-packages\\tensorflow\\python\\ops\\math_grad.py:1250: add_dispatch_support.<locals>.wrapper (from tensorflow.python.ops.array_ops) is deprecated and will be removed in a future version.\n",
      "Instructions for updating:\n",
      "Use tf.where in 2.0, which has the same broadcast rule as np.where\n",
      "Epoch 1/100\n",
      "1080/1080 [==============================] - ETA: 3:41 - loss: 3.9475 - acc: 0.156 - ETA: 2:18 - loss: 3.9300 - acc: 0.179 - ETA: 1:48 - loss: 3.9126 - acc: 0.182 - ETA: 1:30 - loss: 3.9817 - acc: 0.168 - ETA: 1:19 - loss: 3.8388 - acc: 0.190 - ETA: 1:10 - loss: 3.7395 - acc: 0.197 - ETA: 1:01 - loss: 3.7802 - acc: 0.183 - ETA: 53s - loss: 3.7264 - acc: 0.191 - ETA: 46s - loss: 3.6914 - acc: 0.18 - ETA: 39s - loss: 3.6899 - acc: 0.18 - ETA: 33s - loss: 3.7142 - acc: 0.18 - ETA: 27s - loss: 3.6575 - acc: 0.18 - ETA: 21s - loss: 3.6596 - acc: 0.18 - ETA: 15s - loss: 3.6555 - acc: 0.19 - ETA: 10s - loss: 3.5877 - acc: 0.19 - ETA: 4s - loss: 3.5426 - acc: 0.2012 - 91s 84ms/step - loss: 3.5248 - acc: 0.1981\n",
      "Epoch 2/100\n",
      "1080/1080 [==============================] - ETA: 1:16 - loss: 2.8374 - acc: 0.156 - ETA: 1:13 - loss: 2.7317 - acc: 0.242 - ETA: 1:08 - loss: 2.7179 - acc: 0.276 - ETA: 1:02 - loss: 2.7039 - acc: 0.253 - ETA: 57s - loss: 2.7407 - acc: 0.262 - ETA: 52s - loss: 2.7170 - acc: 0.27 - ETA: 48s - loss: 2.7218 - acc: 0.27 - ETA: 43s - loss: 2.7465 - acc: 0.27 - ETA: 38s - loss: 2.7886 - acc: 0.26 - ETA: 33s - loss: 2.8272 - acc: 0.26 - ETA: 28s - loss: 2.7768 - acc: 0.28 - ETA: 23s - loss: 2.7951 - acc: 0.27 - ETA: 18s - loss: 2.8316 - acc: 0.26 - ETA: 13s - loss: 2.8771 - acc: 0.26 - ETA: 9s - loss: 2.8796 - acc: 0.2615 - ETA: 4s - loss: 2.8671 - acc: 0.260 - 82s 76ms/step - loss: 2.8396 - acc: 0.2648\n",
      "Epoch 3/100\n",
      "1080/1080 [==============================] - ETA: 1:16 - loss: 2.6915 - acc: 0.218 - ETA: 1:10 - loss: 2.5812 - acc: 0.265 - ETA: 1:06 - loss: 2.6248 - acc: 0.255 - ETA: 1:01 - loss: 2.5900 - acc: 0.281 - ETA: 56s - loss: 2.5328 - acc: 0.287 - ETA: 52s - loss: 2.6375 - acc: 0.27 - ETA: 47s - loss: 2.7443 - acc: 0.26 - ETA: 42s - loss: 2.6943 - acc: 0.27 - ETA: 38s - loss: 2.7458 - acc: 0.27 - ETA: 33s - loss: 2.7421 - acc: 0.27 - ETA: 28s - loss: 2.6726 - acc: 0.27 - ETA: 23s - loss: 2.6494 - acc: 0.27 - ETA: 18s - loss: 2.6433 - acc: 0.28 - ETA: 13s - loss: 2.6356 - acc: 0.28 - ETA: 9s - loss: 2.6367 - acc: 0.2896 - ETA: 4s - loss: 2.6491 - acc: 0.287 - 82s 76ms/step - loss: 2.6694 - acc: 0.2824\n",
      "Epoch 4/100\n",
      "1080/1080 [==============================] - ETA: 1:14 - loss: 2.2408 - acc: 0.453 - ETA: 1:09 - loss: 2.6075 - acc: 0.375 - ETA: 1:06 - loss: 2.3486 - acc: 0.369 - ETA: 1:01 - loss: 2.4653 - acc: 0.355 - ETA: 56s - loss: 2.4276 - acc: 0.362 - ETA: 51s - loss: 2.4432 - acc: 0.35 - ETA: 47s - loss: 2.3994 - acc: 0.35 - ETA: 42s - loss: 2.4213 - acc: 0.35 - ETA: 37s - loss: 2.4109 - acc: 0.35 - ETA: 32s - loss: 2.4598 - acc: 0.35 - ETA: 28s - loss: 2.4869 - acc: 0.34 - ETA: 23s - loss: 2.4313 - acc: 0.35 - ETA: 18s - loss: 2.4201 - acc: 0.35 - ETA: 13s - loss: 2.3819 - acc: 0.35 - ETA: 8s - loss: 2.3866 - acc: 0.3563 - ETA: 4s - loss: 2.3623 - acc: 0.356 - 80s 75ms/step - loss: 2.3448 - acc: 0.3583\n",
      "Epoch 5/100\n",
      "1080/1080 [==============================] - ETA: 1:15 - loss: 2.4957 - acc: 0.375 - ETA: 1:08 - loss: 2.4004 - acc: 0.343 - ETA: 1:00 - loss: 2.2544 - acc: 0.343 - ETA: 55s - loss: 2.3310 - acc: 0.347 - ETA: 52s - loss: 2.2370 - acc: 0.37 - ETA: 48s - loss: 2.1730 - acc: 0.39 - ETA: 44s - loss: 2.1168 - acc: 0.38 - ETA: 40s - loss: 2.0759 - acc: 0.40 - ETA: 36s - loss: 2.1204 - acc: 0.39 - ETA: 31s - loss: 2.0743 - acc: 0.40 - ETA: 27s - loss: 2.0633 - acc: 0.39 - ETA: 22s - loss: 2.0480 - acc: 0.40 - ETA: 17s - loss: 2.0430 - acc: 0.40 - ETA: 13s - loss: 2.0814 - acc: 0.40 - ETA: 8s - loss: 2.0989 - acc: 0.3990 - ETA: 4s - loss: 2.0973 - acc: 0.397 - 77s 71ms/step - loss: 2.1018 - acc: 0.3954\n",
      "Epoch 6/100\n",
      "1080/1080 [==============================] - ETA: 55s - loss: 1.9659 - acc: 0.51 - ETA: 56s - loss: 1.7946 - acc: 0.49 - ETA: 55s - loss: 1.8009 - acc: 0.47 - ETA: 49s - loss: 1.8316 - acc: 0.46 - ETA: 45s - loss: 1.8058 - acc: 0.45 - ETA: 41s - loss: 1.7923 - acc: 0.47 - ETA: 38s - loss: 1.7301 - acc: 0.47 - ETA: 34s - loss: 1.6915 - acc: 0.48 - ETA: 30s - loss: 1.6983 - acc: 0.47 - ETA: 26s - loss: 1.7130 - acc: 0.47 - ETA: 23s - loss: 1.7364 - acc: 0.47 - ETA: 19s - loss: 1.7132 - acc: 0.47 - ETA: 15s - loss: 1.7076 - acc: 0.48 - ETA: 11s - loss: 1.7103 - acc: 0.48 - ETA: 7s - loss: 1.7086 - acc: 0.4854 - ETA: 3s - loss: 1.7297 - acc: 0.484 - 65s 60ms/step - loss: 1.7200 - acc: 0.4861\n",
      "Epoch 7/100\n",
      "1080/1080 [==============================] - ETA: 55s - loss: 1.4576 - acc: 0.48 - ETA: 52s - loss: 1.5761 - acc: 0.45 - ETA: 49s - loss: 1.4762 - acc: 0.50 - ETA: 46s - loss: 1.5797 - acc: 0.49 - ETA: 42s - loss: 1.5224 - acc: 0.49 - ETA: 39s - loss: 1.5159 - acc: 0.51 - ETA: 35s - loss: 1.5280 - acc: 0.52 - ETA: 31s - loss: 1.5160 - acc: 0.50 - ETA: 28s - loss: 1.4740 - acc: 0.51 - ETA: 24s - loss: 1.5012 - acc: 0.52 - ETA: 21s - loss: 1.4968 - acc: 0.51 - ETA: 17s - loss: 1.5332 - acc: 0.51 - ETA: 13s - loss: 1.5330 - acc: 0.51 - ETA: 10s - loss: 1.5023 - acc: 0.52 - ETA: 6s - loss: 1.4905 - acc: 0.5302 - ETA: 3s - loss: 1.4860 - acc: 0.528 - 61s 56ms/step - loss: 1.4750 - acc: 0.5296\n",
      "Epoch 8/100\n",
      "1080/1080 [==============================] - ETA: 58s - loss: 1.7315 - acc: 0.53 - ETA: 54s - loss: 1.4975 - acc: 0.57 - ETA: 49s - loss: 1.4375 - acc: 0.58 - ETA: 46s - loss: 1.3888 - acc: 0.58 - ETA: 42s - loss: 1.3126 - acc: 0.60 - ETA: 40s - loss: 1.2196 - acc: 0.63 - ETA: 36s - loss: 1.2388 - acc: 0.61 - ETA: 33s - loss: 1.2280 - acc: 0.62 - ETA: 29s - loss: 1.2299 - acc: 0.62 - ETA: 26s - loss: 1.2190 - acc: 0.62 - ETA: 22s - loss: 1.2008 - acc: 0.62 - ETA: 18s - loss: 1.1977 - acc: 0.61 - ETA: 14s - loss: 1.2103 - acc: 0.61 - ETA: 10s - loss: 1.2010 - acc: 0.62 - ETA: 7s - loss: 1.1851 - acc: 0.6240 - ETA: 3s - loss: 1.1772 - acc: 0.626 - 64s 60ms/step - loss: 1.1806 - acc: 0.6269\n",
      "Epoch 9/100\n",
      "1080/1080 [==============================] - ETA: 53s - loss: 1.0308 - acc: 0.60 - ETA: 52s - loss: 0.9563 - acc: 0.64 - ETA: 49s - loss: 0.9798 - acc: 0.63 - ETA: 45s - loss: 0.9480 - acc: 0.64 - ETA: 43s - loss: 0.9301 - acc: 0.65 - ETA: 40s - loss: 0.8747 - acc: 0.66 - ETA: 36s - loss: 0.8457 - acc: 0.68 - ETA: 32s - loss: 0.9037 - acc: 0.67 - ETA: 28s - loss: 0.8912 - acc: 0.68 - ETA: 25s - loss: 0.8765 - acc: 0.68 - ETA: 21s - loss: 0.8854 - acc: 0.68 - ETA: 18s - loss: 0.8975 - acc: 0.68 - ETA: 14s - loss: 0.9096 - acc: 0.67 - ETA: 10s - loss: 0.9144 - acc: 0.67 - ETA: 6s - loss: 0.9218 - acc: 0.6781 - ETA: 3s - loss: 0.9142 - acc: 0.678 - 61s 57ms/step - loss: 0.8969 - acc: 0.6852\n",
      "Epoch 10/100\n",
      " 896/1080 [=======================>......] - ETA: 53s - loss: 0.6268 - acc: 0.73 - ETA: 50s - loss: 0.5604 - acc: 0.76 - ETA: 48s - loss: 0.5837 - acc: 0.77 - ETA: 45s - loss: 0.6167 - acc: 0.76 - ETA: 42s - loss: 0.6856 - acc: 0.76 - ETA: 38s - loss: 0.6885 - acc: 0.75 - ETA: 35s - loss: 0.6535 - acc: 0.77 - ETA: 31s - loss: 0.6458 - acc: 0.76 - ETA: 27s - loss: 0.6384 - acc: 0.76 - ETA: 24s - loss: 0.6308 - acc: 0.76 - ETA: 20s - loss: 0.6250 - acc: 0.76 - ETA: 17s - loss: 0.6302 - acc: 0.76 - ETA: 13s - loss: 0.6303 - acc: 0.77 - ETA: 10s - loss: 0.6346 - acc: 0.7712"
     ]
    }
   ],
   "source": [
    "model.fit(X_train, Y_train, epochs = 100, batch_size = 64)"
   ]
  },
  {
   "cell_type": "code",
   "execution_count": null,
   "metadata": {},
   "outputs": [],
   "source": [
    "preds = model.evaluate(X_test, Y_test)\n",
    "print (\"Loss = \" + str(preds[0]))\n",
    "print (\"Test Accuracy = \" + str(preds[1]))"
   ]
  },
  {
   "cell_type": "code",
   "execution_count": null,
   "metadata": {},
   "outputs": [],
   "source": [
    "model.summary()"
   ]
  }
 ],
 "metadata": {
  "kernelspec": {
   "display_name": "Python 3",
   "language": "python",
   "name": "python3"
  },
  "language_info": {
   "codemirror_mode": {
    "name": "ipython",
    "version": 3
   },
   "file_extension": ".py",
   "mimetype": "text/x-python",
   "name": "python",
   "nbconvert_exporter": "python",
   "pygments_lexer": "ipython3",
   "version": "3.7.3"
  }
 },
 "nbformat": 4,
 "nbformat_minor": 2
}
